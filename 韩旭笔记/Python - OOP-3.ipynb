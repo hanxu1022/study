{
 "cells": [
  {
   "cell_type": "code",
   "execution_count": 12,
   "metadata": {},
   "outputs": [
    {
     "name": "stdout",
     "output_type": "stream",
     "text": [
      "Working.......\n",
      "====================\n",
      "Working.......\n",
      "I am swimming.......\n"
     ]
    }
   ],
   "source": [
    "# 单继承和多继承的例子\n",
    "# 子类可以直接拥有父亲的属性和方法, 私有属性和方法除外.\n",
    "class Fish():\n",
    "    def __init__(self, name):\n",
    "        self.name = name\n",
    "    def swim(self):\n",
    "        print(\"I am swimming.......\")\n",
    "        \n",
    "class Bird():\n",
    "    def __init__(self, name):\n",
    "        self.name = name\n",
    "        \n",
    "    def fly(self):\n",
    "        print(\"I am fiying.......\")\n",
    "        \n",
    "class Person():\n",
    "    def __init__(self, name):\n",
    "        self.name = name\n",
    "        \n",
    "    def workd(self):\n",
    "        print(\"Working.......\")\n",
    "        \n",
    "\n",
    "\n",
    "# 单继承的例子\n",
    "class Student(Person):\n",
    "    def __init__(self, name):\n",
    "        self.name = name \n",
    "        \n",
    "stu = Student(\"yueyue\")\n",
    "stu.workd()        \n",
    "        \n",
    "print(\"=\" * 20)  \n",
    "\n",
    "# 多继承的例子   \n",
    "class SuperMan(Person, Bird, Fish):\n",
    "    def __init__(self, name):\n",
    "        self.name = name\n",
    "\n",
    "class SwinMan(Person, Fish):\n",
    "    def __init__(self, name):\n",
    "        self.name = name \n",
    "        \n",
    "s = SuperMan(\"yueyue\")\n",
    "s.workd()\n",
    "s.swim()\n",
    "\n"
   ]
  },
  {
   "cell_type": "code",
   "execution_count": 13,
   "metadata": {},
   "outputs": [],
   "source": [
    "# 菱形继承问题\n",
    "class A():\n",
    "    pass\n",
    "class B(A):\n",
    "    pass\n",
    "class C(A):\n",
    "    pass\n",
    "class D(B, C):\n",
    "    pass"
   ]
  },
  {
   "cell_type": "code",
   "execution_count": 19,
   "metadata": {},
   "outputs": [
    {
     "name": "stdout",
     "output_type": "stream",
     "text": [
      "In init func\n",
      "NO Nmae\n"
     ]
    }
   ],
   "source": [
    "# 构造函数例子\n",
    "\n",
    "class Person():\n",
    "    # 对Person类进行实例化的时候\n",
    "    # 姓名要确定\n",
    "    # 年龄要确定\n",
    "    # 地址要确定\n",
    "    def __init__(self): # 第一个参数代表自己本身,必须有\n",
    "        self.name = \"NO Nmae\"\n",
    "        self.age = 18\n",
    "        self.address = \"Studentwhonheim\"\n",
    "        print(\"In init func\")\n",
    "        \n",
    "# 实例化一个人    \n",
    "p = Person()\n",
    "print(p.name)"
   ]
  },
  {
   "cell_type": "code",
   "execution_count": 27,
   "metadata": {},
   "outputs": [
    {
     "name": "stdout",
     "output_type": "stream",
     "text": [
      "(<class '__main__.Tutor'>, <class '__main__.Teacher'>, <class '__main__.Student'>, <class '__main__.Person'>, <class 'object'>)\n",
      "{}\n",
      "{'__module__': '__main__', '__doc__': None}\n",
      "====================\n",
      "(<class '__main__.TutorM'>, <class '__main__.Person'>, <class '__main__.TeacherMixin'>, <class '__main__.StudentMixin'>, <class 'object'>)\n",
      "{}\n",
      "{'__module__': '__main__', '__doc__': None}\n"
     ]
    }
   ],
   "source": [
    "# Mixin案例\n",
    "class Person():\n",
    "    name = \"hanxu\"\n",
    "    age = 18\n",
    "    \n",
    "    def eat(self):\n",
    "        print(\"EAT......\")\n",
    "    \n",
    "    def drink(self):\n",
    "        print(\"DRINK......\")\n",
    "    \n",
    "    def sleep(self):\n",
    "        print(\"SLEEP......\")\n",
    "        \n",
    "class Teacher(Person):\n",
    "    def work(self):\n",
    "        print(\"Work\")\n",
    "        \n",
    "class Student(Person):\n",
    "    def study(self):\n",
    "        print(\"Study\")\n",
    "        \n",
    "class Tutor(Teacher, Student):\n",
    "    pass\n",
    "\n",
    "t = Tutor()\n",
    "\n",
    "print(Tutor.__mro__)\n",
    "print(t.__dict__)\n",
    "print(Tutor.__dict__)\n",
    "\n",
    "print(\"=\" * 20)\n",
    "\n",
    "class TeacherMixin():\n",
    "    def work(self):\n",
    "        print(\"Work\")\n",
    "        \n",
    "class StudentMixin():\n",
    "    def study(self):\n",
    "        print(\"Study\")\n",
    "        \n",
    "class TutorM(Person, TeacherMixin, StudentMixin):\n",
    "    pass\n",
    "\n",
    "tt = TutorM()\n",
    "print(TutorM.__mro__)\n",
    "print(tt.__dict__)\n",
    "print(TutorM.__dict__)"
   ]
  },
  {
   "cell_type": "markdown",
   "metadata": {},
   "source": [
    "# 类的相关函数"
   ]
  },
  {
   "cell_type": "code",
   "execution_count": 31,
   "metadata": {},
   "outputs": [
    {
     "name": "stdout",
     "output_type": "stream",
     "text": [
      "True\n",
      "False\n",
      "True\n"
     ]
    }
   ],
   "source": [
    "# issubclass: 检测一个类是否是另一个类的子类\n",
    "class A():\n",
    "    pass\n",
    "\n",
    "class B(A):\n",
    "    pass\n",
    "\n",
    "class C():\n",
    "    pass\n",
    "\n",
    "print(issubclass(B, A))\n",
    "print(issubclass(C, A))\n",
    "print(issubclass(B, object))"
   ]
  },
  {
   "cell_type": "code",
   "execution_count": 33,
   "metadata": {},
   "outputs": [
    {
     "name": "stdout",
     "output_type": "stream",
     "text": [
      "True\n",
      "False\n"
     ]
    }
   ],
   "source": [
    "# isinstance: 检测一个对象是否是一个类的实例\n",
    "class A():\n",
    "    pass\n",
    "\n",
    "a = A()\n",
    "\n",
    "print(isinstance(a, A))\n",
    "print(isinstance(A, A))"
   ]
  },
  {
   "cell_type": "code",
   "execution_count": 36,
   "metadata": {},
   "outputs": [
    {
     "name": "stdout",
     "output_type": "stream",
     "text": [
      "True\n",
      "False\n"
     ]
    }
   ],
   "source": [
    "# hasattr: 检测一个对象是否有成员XXX\n",
    "class A():\n",
    "    name = \"NO Name\"\n",
    "    \n",
    "a = A()\n",
    "print(hasattr(a, \"name\"))\n",
    "print(hasattr(a, \"age\"))"
   ]
  },
  {
   "cell_type": "code",
   "execution_count": 37,
   "metadata": {},
   "outputs": [
    {
     "name": "stdout",
     "output_type": "stream",
     "text": [
      "Help on built-in function setattr in module builtins:\n",
      "\n",
      "setattr(obj, name, value, /)\n",
      "    Sets the named attribute on the given object to the specified value.\n",
      "    \n",
      "    setattr(x, 'y', v) is equivalent to ``x.y = v''\n",
      "\n"
     ]
    }
   ],
   "source": [
    "# help案例\n",
    "# 想知道setatt的具体用法\n",
    "help(setattr)"
   ]
  },
  {
   "cell_type": "code",
   "execution_count": 38,
   "metadata": {},
   "outputs": [
    {
     "data": {
      "text/plain": [
       "['__class__',\n",
       " '__delattr__',\n",
       " '__dict__',\n",
       " '__dir__',\n",
       " '__doc__',\n",
       " '__eq__',\n",
       " '__format__',\n",
       " '__ge__',\n",
       " '__getattribute__',\n",
       " '__gt__',\n",
       " '__hash__',\n",
       " '__init__',\n",
       " '__init_subclass__',\n",
       " '__le__',\n",
       " '__lt__',\n",
       " '__module__',\n",
       " '__ne__',\n",
       " '__new__',\n",
       " '__reduce__',\n",
       " '__reduce_ex__',\n",
       " '__repr__',\n",
       " '__setattr__',\n",
       " '__sizeof__',\n",
       " '__str__',\n",
       " '__subclasshook__',\n",
       " '__weakref__']"
      ]
     },
     "execution_count": 38,
     "metadata": {},
     "output_type": "execute_result"
    }
   ],
   "source": [
    "# dir 案例\n",
    "class A():\n",
    "    pass\n",
    "\n",
    "dir(A)"
   ]
  },
  {
   "cell_type": "code",
   "execution_count": null,
   "metadata": {},
   "outputs": [],
   "source": []
  }
 ],
 "metadata": {
  "kernelspec": {
   "display_name": "Python 3",
   "language": "python",
   "name": "python3"
  },
  "language_info": {
   "codemirror_mode": {
    "name": "ipython",
    "version": 3
   },
   "file_extension": ".py",
   "mimetype": "text/x-python",
   "name": "python",
   "nbconvert_exporter": "python",
   "pygments_lexer": "ipython3",
   "version": "3.7.1"
  }
 },
 "nbformat": 4,
 "nbformat_minor": 2
}
