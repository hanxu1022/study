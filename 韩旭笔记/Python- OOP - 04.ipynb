{
 "cells": [
  {
   "cell_type": "markdown",
   "metadata": {},
   "source": [
    "# property"
   ]
  },
  {
   "cell_type": "code",
   "execution_count": 49,
   "metadata": {},
   "outputs": [
    {
     "name": "stdout",
     "output_type": "stream",
     "text": [
      "Hai, my name is Han Xu\n",
      "Hai, my name is michi stangle\n"
     ]
    }
   ],
   "source": [
    "# 属性案例\n",
    "# 创建Student类, 描述学生类\n",
    "# 学生具有Student.name属性\n",
    "# 但name的格式并不统一\n",
    "\n",
    "class Student():\n",
    "    def __init__(self, name, age):\n",
    "        self.name = name\n",
    "        self.age = age\n",
    "        \n",
    "     # 介绍下自己   \n",
    "    def intro(self):\n",
    "        print(\"Hai, my name is {0}\".format(self.name))\n",
    "     \n",
    "s1 = Student(\"Han Xu\", 19)\n",
    "s2 = Student(\"michi stangle\", 24)\n",
    "\n",
    "s1.intro()\n",
    "s2.intro()"
   ]
  },
  {
   "cell_type": "code",
   "execution_count": 6,
   "metadata": {},
   "outputs": [
    {
     "name": "stdout",
     "output_type": "stream",
     "text": [
      "Hai, my name is HAN XU\n",
      "Hai, my name is MICHI STANGLE\n"
     ]
    }
   ],
   "source": [
    "# name 格式统一为大写\n",
    "class Student():\n",
    "    def __init__(self, name, age):\n",
    "        self.name = name\n",
    "        self.age = age\n",
    "        self.setName(name) \n",
    "    \n",
    "    # 介绍下自己   \n",
    "    def intro(self):\n",
    "        print(\"Hai, my name is {0}\".format(self.name))\n",
    "     \n",
    "    def setName(self, name):\n",
    "        self.name = name.upper()\n",
    "        \n",
    "s1 = Student(\"Han Xu\", 19)\n",
    "s2 = Student(\"michi stangle\", 24)\n",
    "\n",
    "s1.intro()\n",
    "s2.intro()"
   ]
  },
  {
   "cell_type": "code",
   "execution_count": 24,
   "metadata": {},
   "outputs": [],
   "source": [
    "# property 案例\n",
    "# 定义一个Person类, 具有name, age属性\n",
    "# 对于任意输入的姓名, 我们希望都用大写方式保存\n",
    "# 年龄, 我们希望内部统一用整数保存\n",
    "# X =  property(fget, fset, fdel, doc)\n",
    "class Person():\n",
    "    # 函数的名称可以任意\n",
    "    def fget(self):\n",
    "        return self._name * 2\n",
    "    \n",
    "    def fset(self, name):\n",
    "        # 所有输入的姓名以大写形式保存\n",
    "        self._name = name.upper()\n",
    "        \n",
    "    def fdel(self):\n",
    "        self._name = \"No Name\"\n",
    "        \n",
    "    name = property(fget, fset, fdel, \"对name进行操作了\")"
   ]
  },
  {
   "cell_type": "code",
   "execution_count": 25,
   "metadata": {},
   "outputs": [
    {
     "name": "stdout",
     "output_type": "stream",
     "text": [
      "TULINGTULING\n"
     ]
    }
   ],
   "source": [
    "p1 = Person()\n",
    "p1.name = \"TuLing\"\n",
    "print(p1.name)"
   ]
  },
  {
   "cell_type": "code",
   "execution_count": 40,
   "metadata": {},
   "outputs": [
    {
     "name": "stdout",
     "output_type": "stream",
     "text": [
      "19\n"
     ]
    }
   ],
   "source": [
    "# 年龄取整\n",
    "class Person():\n",
    "    \n",
    "    \"\"\"\n",
    "    这是一个人,一个有属性的人\n",
    "    \n",
    "    \"\"\"\n",
    "    # 函数的名称可以任意\n",
    "    def fget(self):\n",
    "        return self._age \n",
    "    \n",
    "    def fset(self, age):\n",
    "        # 所有输入的年龄以整数形式保存\n",
    "        self._age = round(age)\n",
    "        \n",
    "    def fdel(self):\n",
    "        self._age = \"No Age\"\n",
    "        \n",
    "    age = property(fget, fset, fdel, \"对age进行操作了\")\n",
    "    \n",
    "    \n",
    "    \n",
    "p2 = Person()\n",
    "p2.age = 18.666\n",
    "print(p2.age)\n",
    "    \n",
    "    "
   ]
  },
  {
   "cell_type": "code",
   "execution_count": 50,
   "metadata": {},
   "outputs": [
    {
     "name": "stdout",
     "output_type": "stream",
     "text": [
      "{'__module__': '__main__', '__doc__': '\\n    这是一个人,一个有属性的人\\n    \\n    ', 'fget': <function Person.fget at 0x0000024DBD0A3158>, 'fset': <function Person.fset at 0x0000024DBD0A3A60>, 'fdel': <function Person.fdel at 0x0000024DBD0A3950>, 'age': <property object at 0x0000024DBD0BFE58>, '__dict__': <attribute '__dict__' of 'Person' objects>, '__weakref__': <attribute '__weakref__' of 'Person' objects>}\n",
      "\n",
      "    这是一个人,一个有属性的人\n",
      "    \n",
      "    \n",
      "Person\n",
      "(<class 'object'>,)\n"
     ]
    }
   ],
   "source": [
    "# 类的内置属性案例\n",
    "print(Person.__dict__)\n",
    "print(Person.__doc__)\n",
    "print(Person.__name__)\n",
    "print(Person.__bases__)"
   ]
  },
  {
   "cell_type": "markdown",
   "metadata": {},
   "source": [
    "# 魔法函数"
   ]
  },
  {
   "cell_type": "code",
   "execution_count": 44,
   "metadata": {},
   "outputs": [
    {
     "name": "stdout",
     "output_type": "stream",
     "text": [
      "哈哈, 我被调用了\n"
     ]
    }
   ],
   "source": [
    "# __init__举例\n",
    "class A():\n",
    "    def __init__(self, name = 0):\n",
    "        print(\"哈哈, 我被调用了\")\n",
    "        \n",
    "a = A() # 自动调用__init__构造函数"
   ]
  },
  {
   "cell_type": "code",
   "execution_count": 48,
   "metadata": {},
   "outputs": [
    {
     "name": "stdout",
     "output_type": "stream",
     "text": [
      "哈哈, 我被调用了\n",
      "我被调用了again\n"
     ]
    }
   ],
   "source": [
    "#__call__举例\n",
    "class A():\n",
    "    def __init__(self, name = 0):\n",
    "        print(\"哈哈, 我被调用了\")\n",
    "        \n",
    "    def __call__(self):\n",
    "        print(\"我被调用了again\")\n",
    "a = A() \n",
    "a()# 自动调用了__call__魔法函数"
   ]
  },
  {
   "cell_type": "code",
   "execution_count": 52,
   "metadata": {},
   "outputs": [
    {
     "name": "stdout",
     "output_type": "stream",
     "text": [
      "哈哈, 我被调用了\n",
      "魔法函数案例\n"
     ]
    }
   ],
   "source": [
    "# __str__举例\n",
    "class A():\n",
    "    def __init__(self, name = 0):\n",
    "        print(\"哈哈, 我被调用了\")\n",
    "        \n",
    "    def __call__(self):\n",
    "        print(\"我被调用了again\")\n",
    "    \n",
    "    def __str__(self):\n",
    "        return \"魔法函数案例\"\n",
    "        \n",
    "a = A()\n",
    "print(a) # 自动调用__str__魔法函数"
   ]
  },
  {
   "cell_type": "code",
   "execution_count": 56,
   "metadata": {},
   "outputs": [
    {
     "name": "stdout",
     "output_type": "stream",
     "text": [
      "Noname\n",
      "====================\n",
      "没找到,没找到\n",
      "addr\n",
      "None\n"
     ]
    }
   ],
   "source": [
    "# __getattr__ 举例\n",
    "class A():\n",
    "    name = \"Noname\"\n",
    "    age = 18\n",
    "\n",
    "    def __getattr__(self, name):\n",
    "        print(\"没找到,没找到\")\n",
    "        print(name)\n",
    "     \n",
    "a = A()\n",
    "print(a.name)\n",
    "\n",
    "print(\"=\" * 20)\n",
    "print(a.addr)"
   ]
  },
  {
   "cell_type": "code",
   "execution_count": 3,
   "metadata": {},
   "outputs": [
    {
     "name": "stdout",
     "output_type": "stream",
     "text": [
      "{}\n",
      "设置属性: age\n"
     ]
    }
   ],
   "source": [
    "# __setattr__ 举例\n",
    "class Person():\n",
    "    def __init__(self):\n",
    "        pass\n",
    "    def __setattr__(self, name, value):\n",
    "        print(\"设置属性: {0}\".format(name))\n",
    "        # 下面语句会导致问题, 死循环\n",
    "        # self.name = value\n",
    "        # 此种情况, 为了避免死循环, 规定统一调用父类魔法函数\n",
    "        super().__setattr__(name, value)\n",
    "        \n",
    "        \n",
    "p = Person()\n",
    "print(p.__dict__)\n",
    "p.age = 18"
   ]
  },
  {
   "cell_type": "code",
   "execution_count": 6,
   "metadata": {},
   "outputs": [
    {
     "ename": "TypeError",
     "evalue": "'>' not supported between instances of 'Student' and 'Student'",
     "output_type": "error",
     "traceback": [
      "\u001b[1;31m---------------------------------------------------------------------------\u001b[0m",
      "\u001b[1;31mTypeError\u001b[0m                                 Traceback (most recent call last)",
      "\u001b[1;32m<ipython-input-6-6f53c10d40a8>\u001b[0m in \u001b[0;36m<module>\u001b[1;34m\u001b[0m\n\u001b[0;32m     12\u001b[0m \u001b[0mstu2\u001b[0m \u001b[1;33m=\u001b[0m \u001b[0mStudent\u001b[0m\u001b[1;33m(\u001b[0m\u001b[1;34m\"two\"\u001b[0m\u001b[1;33m)\u001b[0m\u001b[1;33m\u001b[0m\u001b[1;33m\u001b[0m\u001b[0m\n\u001b[0;32m     13\u001b[0m \u001b[1;33m\u001b[0m\u001b[0m\n\u001b[1;32m---> 14\u001b[1;33m \u001b[0mprint\u001b[0m\u001b[1;33m(\u001b[0m\u001b[0mstu1\u001b[0m \u001b[1;33m>\u001b[0m \u001b[0mstu2\u001b[0m\u001b[1;33m)\u001b[0m\u001b[1;33m\u001b[0m\u001b[1;33m\u001b[0m\u001b[0m\n\u001b[0m",
      "\u001b[1;31mTypeError\u001b[0m: '>' not supported between instances of 'Student' and 'Student'"
     ]
    }
   ],
   "source": [
    "# __gt__ 举例\n",
    "\n",
    "class Student():\n",
    "    def __init__(self, name):\n",
    "        self._name = name\n",
    "    \"\"\"  \n",
    "    def __gt__(self, obj):\n",
    "        print(\"哈哈, {0} 会比 {1} 大吗?\".format(self, obj))\n",
    "        return self._nmae > obj._name\n",
    "    \"\"\"  \n",
    "stu1 = Student(\"one\")\n",
    "stu2 = Student(\"two\")\n",
    "\n",
    "print(stu1 > stu2)"
   ]
  },
  {
   "cell_type": "code",
   "execution_count": 26,
   "metadata": {},
   "outputs": [
    {
     "name": "stdout",
     "output_type": "stream",
     "text": [
      "哈哈, one 会比 two 大吗?\n",
      "False\n"
     ]
    }
   ],
   "source": [
    "# __gt__ 举例\n",
    "\n",
    "class Student():\n",
    "    def __init__(self, name):\n",
    "        self._name = name\n",
    "       \n",
    "        \n",
    "    def __gt__(self, obj):\n",
    "        print(\"哈哈, {0} 会比 {1} 大吗?\".format(self._name, obj._name))\n",
    "        return self._name > obj._name\n",
    "   \n",
    "   \n",
    "    \n",
    "     \n",
    "    \n",
    "stu1 = Student(\"one\")\n",
    "stu2 = Student(\"two\")\n",
    "\n",
    "print(stu1 > stu2)"
   ]
  },
  {
   "cell_type": "code",
   "execution_count": 34,
   "metadata": {},
   "outputs": [
    {
     "name": "stdout",
     "output_type": "stream",
     "text": [
      "<__main__.Person object at 0x00000206C1724358>\n",
      "Eating......\n",
      "<class '__main__.Person'>\n",
      "Playing......\n",
      "<class '__main__.Person'>\n",
      "Playing......\n",
      "Saying ......\n",
      "Saying ......\n"
     ]
    }
   ],
   "source": [
    "# 三种方法的案例\n",
    "class Person():\n",
    "    # 实例方法\n",
    "    def eat(self):\n",
    "        print(self)\n",
    "        print(\"Eating......\")\n",
    "        \n",
    "    # 类方法\n",
    "    # 类方法定义的第一个参数, 一般命名为cls, 为了区别于self\n",
    "    @classmethod\n",
    "    def play(cls):\n",
    "        print(cls)\n",
    "        print(\"Playing......\")\n",
    "        \n",
    "    # 静态方法\n",
    "    # 不需要用第一个参数表示自身或者类\n",
    "    @staticmethod\n",
    "    def say():\n",
    "        print(\"Saying ......\")\n",
    "        \n",
    "yueyue = Person()\n",
    "\n",
    "# 实例方法\n",
    "yueyue.eat()\n",
    "\n",
    "# 类方法\n",
    "Person.play()\n",
    "yueyue.play()\n",
    "\n",
    "# 静态方法\n",
    "Person.say()\n",
    "yueyue.say()"
   ]
  },
  {
   "cell_type": "code",
   "execution_count": null,
   "metadata": {},
   "outputs": [],
   "source": []
  },
  {
   "cell_type": "code",
   "execution_count": null,
   "metadata": {},
   "outputs": [],
   "source": []
  }
 ],
 "metadata": {
  "kernelspec": {
   "display_name": "Python 3",
   "language": "python",
   "name": "python3"
  },
  "language_info": {
   "codemirror_mode": {
    "name": "ipython",
    "version": 3
   },
   "file_extension": ".py",
   "mimetype": "text/x-python",
   "name": "python",
   "nbconvert_exporter": "python",
   "pygments_lexer": "ipython3",
   "version": "3.7.1"
  }
 },
 "nbformat": 4,
 "nbformat_minor": 2
}
