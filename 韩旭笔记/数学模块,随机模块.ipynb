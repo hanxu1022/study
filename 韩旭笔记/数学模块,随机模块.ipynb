{
 "cells": [
  {
   "cell_type": "code",
   "execution_count": 9,
   "metadata": {},
   "outputs": [
    {
     "name": "stdout",
     "output_type": "stream",
     "text": [
      "<module 'math' (built-in)>\n",
      "6\n",
      "6\n",
      "====================\n",
      "5\n",
      "5\n",
      "====================\n",
      "['False', 'None', 'True', 'and', 'as', 'assert', 'async', 'await', 'break', 'class', 'continue', 'def', 'del', 'elif', 'else', 'except', 'finally', 'for', 'from', 'global', 'if', 'import', 'in', 'is', 'lambda', 'nonlocal', 'not', 'or', 'pass', 'raise', 'return', 'try', 'while', 'with', 'yield']\n",
      "====================\n",
      "5\n",
      "6\n",
      "====================\n",
      "2.0\n",
      "64.0\n",
      "64\n",
      "1.0\n",
      "3.0\n",
      "0.0\n",
      "1\n",
      "2.5\n",
      "17.0\n",
      "17\n",
      "(0.5, 4.0)\n",
      "(0.0, 4.0)\n",
      "(0.0, 0.0)\n",
      "-2.0\n",
      "2.0\n",
      "====================\n",
      "2.718281828459045\n",
      "3.141592653589793\n"
     ]
    }
   ],
   "source": [
    "import math   # 数学模块\n",
    "\n",
    "print(math)\n",
    "# ceil() 向上取整\n",
    "print(math.ceil(5.1))\n",
    "print(math.ceil(5.5))\n",
    "\n",
    "print(\"=\" * 20)\n",
    "\n",
    "# floor() 向下取整操作\n",
    "print(math.floor(5.1))\n",
    "print(math.floor(5.9))\n",
    "\n",
    "print(\"=\" * 20)\n",
    "\n",
    "# 查看系统关键字\n",
    "import  keyword\n",
    "print(keyword.kwlist)\n",
    "\n",
    "print(\"=\" * 20)\n",
    "\n",
    "# round() 四舍五入操作  Python内置函数\n",
    "print(round(5.1))\n",
    "print(round(5.5))\n",
    "\n",
    "print(\"=\" * 20)\n",
    "\n",
    "# sqrt() 开平方 返回浮点数\n",
    "print(math.sqrt(4))\n",
    "\n",
    "# pow() 与幂运算差不多, 计算一个数的几次方. 有两个参数,第一个是底数, 第二个是指数.返回浮点数\n",
    "print(math.pow(4,3)) # 4的三次方\n",
    "# 幂运算  返回整数\n",
    "print(4**3)\n",
    "\n",
    "# febs() 对一个数值获取他的绝对值  返回的也是浮点数\n",
    "print(math.fabs(-1))\n",
    "print(math.fabs(3))\n",
    "print(math.fabs(0))\n",
    "# abs() 获取绝对值操作 不是数学模块math函数,是Python内置函数 .  返回值由本身的类型而定\n",
    "print(abs(-1))\n",
    "print(abs(-2.5))\n",
    "\n",
    "# fsun() 对整个序列求和 数学模块中的函数 返回浮点数\n",
    "print(math.fsum([1,4,5,7]))\n",
    "# sum() Python内置求和 返回类型由本身的类型而定\n",
    "print(sum([1,4,5,7]))\n",
    "\n",
    "# modf() 将一个浮点数拆分为整数部分和小数部分构成元组    (小数在前,整数部分在后)\n",
    "print(math.modf(4.5))\n",
    "print(math.modf(4))\n",
    "print(math.modf(0))\n",
    "\n",
    "# copysign() 将第二个数的符号传个第一个数   返回第一个数值的浮点数\n",
    "print(math.copysign(2, -3))\n",
    "print(math.copysign(-2, 3))\n",
    "\n",
    "print(\"=\" * 20)\n",
    "\n",
    "# 打印自然对数 e  和 π的值\n",
    "print(math.e)\n",
    "print(math.pi)\n"
   ]
  },
  {
   "cell_type": "code",
   "execution_count": 4,
   "metadata": {},
   "outputs": [
    {
     "name": "stdout",
     "output_type": "stream",
     "text": [
      "0.885576183290739\n",
      "0.7152899059874721\n",
      "0.6332258036670853\n",
      "0.9778225846220308\n",
      "0.44600748231839726\n",
      "0.6273693980586768\n",
      "0.09086098083700023\n",
      "0.4955569345893982\n",
      "0.31499312478142594\n",
      "0.7198825875056513\n"
     ]
    }
   ],
   "source": [
    "\n",
    "import random  # 随机数模块\n",
    "# random()  获取0-1之间的随机小数 包含0 不包含1\n",
    "for i in range(10):\n",
    "    print(random.random())\n"
   ]
  },
  {
   "cell_type": "code",
   "execution_count": 11,
   "metadata": {},
   "outputs": [
    {
     "name": "stdout",
     "output_type": "stream",
     "text": [
      "8\n",
      "4\n",
      "9\n",
      "4\n",
      "6\n",
      "3\n",
      "2\n",
      "3\n",
      "3\n",
      "9\n"
     ]
    }
   ],
   "source": [
    "# randint() 随机在指定开始和结束之间的整数值  两个参数包含开始,也包含结束.\n",
    "for n in range(10):  \n",
    "    print(random.randint(1,9))\n"
   ]
  },
  {
   "cell_type": "code",
   "execution_count": 16,
   "metadata": {},
   "outputs": [
    {
     "name": "stdout",
     "output_type": "stream",
     "text": [
      "2\n",
      "4\n",
      "5\n",
      "2\n",
      "5\n",
      "7\n",
      "7\n",
      "7\n",
      "7\n",
      "1\n",
      "====================\n",
      "1\n",
      "7\n",
      "1\n",
      "4\n",
      "1\n",
      "4\n",
      "1\n",
      "7\n",
      "4\n",
      "1\n"
     ]
    }
   ],
   "source": [
    "# random.randrange() 获取指定开始和结束之间的整数值, 可以指定间隔值(步长)\n",
    "for m in range(10): \n",
    "    print(random.randrange(1,9))\n",
    "    \n",
    "print(\"=\" * 20)\n",
    "\n",
    "for w in range(10):     \n",
    "    print(random.randrange(1,9,3))"
   ]
  },
  {
   "cell_type": "code",
   "execution_count": 21,
   "metadata": {},
   "outputs": [
    {
     "name": "stdout",
     "output_type": "stream",
     "text": [
      "6\n"
     ]
    }
   ],
   "source": [
    "# choice() 随机获取列表中的值\n",
    "print(random.choice([1,2,3,4,5,6]))"
   ]
  },
  {
   "cell_type": "code",
   "execution_count": 25,
   "metadata": {},
   "outputs": [
    {
     "name": "stdout",
     "output_type": "stream",
     "text": [
      "[1, 2, 3, 4, 5, 6]\n",
      "[1, 2, 5, 6, 4, 3]\n"
     ]
    }
   ],
   "source": [
    "# shuffle() 随机打乱序列 返回None值\n",
    "\n",
    "l = [1,2,3,4,5,6]\n",
    "print(l)\n",
    "random.shuffle(l)\n",
    "print(l)"
   ]
  },
  {
   "cell_type": "code",
   "execution_count": 28,
   "metadata": {},
   "outputs": [
    {
     "name": "stdout",
     "output_type": "stream",
     "text": [
      "5.277092718553944\n",
      "2.5923195018390732\n",
      "3.1877273720179407\n",
      "7.675798080797872\n",
      "3.934766334271883\n",
      "6.072749272349034\n",
      "3.316364232732772\n",
      "8.883071338804267\n",
      "2.463870382471275\n",
      "4.913470528351969\n"
     ]
    }
   ],
   "source": [
    "# uniform()  随机获取指定范围内的值(包括小数)\n",
    "for k in range(10):\n",
    "    print(random.uniform(1,9))"
   ]
  },
  {
   "cell_type": "markdown",
   "metadata": {},
   "source": [
    "# 案例:\n"
   ]
  },
  {
   "cell_type": "code",
   "execution_count": 25,
   "metadata": {},
   "outputs": [
    {
     "name": "stdout",
     "output_type": "stream",
     "text": [
      "请输入一个三位数:101\n",
      "你输入的数字比程序随机数小,程序随机数是916\n",
      "poma03618984\n",
      "mtvw28471239\n",
      "yybb48753482\n",
      "vfwf25943437\n",
      "ikbc62268472\n",
      "xvwk74440744\n",
      "zqmd48196534\n",
      "vmyn67284624\n",
      "zrgv93241268\n",
      "youh67507305\n"
     ]
    }
   ],
   "source": [
    "import random\n",
    "import math\n",
    "\n",
    "\"\"\"\n",
    "输入一个三位数与程序产生的随机数字比较大小\n",
    "1. 如果大于随机数,则分别输出这个三位数的各位\\十位\\百位\n",
    "2. 如果等于随机数,则提示中奖,记100分\n",
    "3. 如果小于随机数,则将120个字符输入到文本文件中\n",
    "(规则是每一条字符串的长度为12,单独占一行,并且前4个是字母,后8个是数字)\n",
    "\"\"\"\n",
    "def line():\n",
    "    # 定义一个空字符串用于拼接字符\n",
    "    st_num = ''\n",
    "    # 循环前四个随机字母(用ascii码对应的数字来随机,然后再转换为字母)\n",
    "    for i in range(4):\n",
    "        # 随机ascii码中小写字母的对应的数字\n",
    "        st1_num = random.randrange(97,123)\n",
    "        # 将随机出来的ascii码对应的数字通过chr函数转换为相对应的字母\n",
    "        st2_num = chr(st1_num)\n",
    "        # 依次拼接得到的随机字母\n",
    "        st_num = st2_num + st_num\n",
    "    # 循环后八位随机数字\n",
    "    for n in range(8):\n",
    "        st3_num = random.randrange(0,10)\n",
    "        st_num = st_num + str(st3_num)\n",
    "    return st_num\n",
    "\n",
    "num = input(\"请输入一个三位数:\")\n",
    "# 程序产生的随机数\n",
    "Python_num = random.randrange(100,1000)\n",
    "# 判断输入是否是纯数字 isdigyit()\n",
    "# 输入函数内输入的是字符类型, 如果不强制转换会报错\n",
    "if num.isdigit() and 100 <= int(num) <= 999:\n",
    "    num = int(num)\n",
    "    Python_num = int(Python_num)\n",
    "    # 判断随机数与输入数的大小\n",
    "    if num > Python_num:\n",
    "        # 求百位数字方法是地板除100或用数学模块当中的floor()函数\n",
    "        Bnum = num // 100\n",
    "        # 求十位数字方法先取100的余数,然后再地板除10\n",
    "        Snum = num % 100 // 10\n",
    "        # 求个位数字方法是直接取10的余\n",
    "        Gnum = num % 10\n",
    "        print(\"你输入的数字比程序随机数大,程序随机数是{}\".format(Python_num))\n",
    "        print(\"你输入的三位数个位数是{}十位数是{}百位数是{}\".format(Gnum, Snum, Bnum))\n",
    "        \n",
    "    if num == Python_num:\n",
    "        print(\"你中奖了\", Python_num)\n",
    "    if num < Python_num:\n",
    "        print(\"你输入的数字比程序随机数小,程序随机数是{}\".format(Python_num))\n",
    "        # 由于120个字符,每行12个,则存入十行即可\n",
    "        for i in range(10):\n",
    "            st_line = line() \n",
    "            print(st_line)\n",
    "            # 执行文件存入操作\n",
    "            with open('st_num.txt', 'a') as f:\n",
    "                f.write(st_line + '\\n')\n",
    "else:\n",
    "    print(\"输入三位数数字是不是傻\")\n",
    "    \n",
    "\n"
   ]
  },
  {
   "cell_type": "code",
   "execution_count": 14,
   "metadata": {},
   "outputs": [
    {
     "name": "stdout",
     "output_type": "stream",
     "text": [
      "65\n",
      "97\n",
      "A\n",
      "a\n"
     ]
    }
   ],
   "source": [
    "# ascii码转数字 ord()\n",
    "print(ord('A'))\n",
    "print(ord('a'))\n",
    "\n",
    "# 数字转ascii码 chr()\n",
    "print(chr(65))\n",
    "print(chr(97))"
   ]
  },
  {
   "cell_type": "code",
   "execution_count": null,
   "metadata": {},
   "outputs": [],
   "source": []
  },
  {
   "cell_type": "code",
   "execution_count": null,
   "metadata": {},
   "outputs": [],
   "source": []
  },
  {
   "cell_type": "code",
   "execution_count": null,
   "metadata": {},
   "outputs": [],
   "source": []
  },
  {
   "cell_type": "code",
   "execution_count": null,
   "metadata": {},
   "outputs": [],
   "source": []
  },
  {
   "cell_type": "code",
   "execution_count": null,
   "metadata": {},
   "outputs": [],
   "source": []
  },
  {
   "cell_type": "code",
   "execution_count": null,
   "metadata": {},
   "outputs": [],
   "source": []
  }
 ],
 "metadata": {
  "kernelspec": {
   "display_name": "Python 3",
   "language": "python",
   "name": "python3"
  },
  "language_info": {
   "codemirror_mode": {
    "name": "ipython",
    "version": 3
   },
   "file_extension": ".py",
   "mimetype": "text/x-python",
   "name": "python",
   "nbconvert_exporter": "python",
   "pygments_lexer": "ipython3",
   "version": "3.7.1"
  }
 },
 "nbformat": 4,
 "nbformat_minor": 2
}
